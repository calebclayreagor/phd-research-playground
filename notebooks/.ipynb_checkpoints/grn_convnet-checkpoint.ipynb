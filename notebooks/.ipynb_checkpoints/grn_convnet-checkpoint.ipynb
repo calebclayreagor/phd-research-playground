{
 "cells": [
  {
   "cell_type": "markdown",
   "metadata": {},
   "source": [
    "# Inferring Gene Regulation from scRNA-seq Data"
   ]
  },
  {
   "cell_type": "code",
   "execution_count": null,
   "metadata": {
    "ExecuteTime": {
     "end_time": "2021-03-23T02:54:47.530907Z",
     "start_time": "2021-03-23T02:54:47.519943Z"
    },
    "init_cell": true
   },
   "outputs": [],
   "source": [
    "# set the working, dataset directories\n",
    "wd = '/Users/calebreagor/Documents/hudspeth-lab'\n",
    "dd = '/Volumes/Hudspeth/datasets'"
   ]
  },
  {
   "cell_type": "code",
   "execution_count": null,
   "metadata": {
    "ExecuteTime": {
     "end_time": "2021-03-23T02:54:52.093416Z",
     "start_time": "2021-03-23T02:54:47.539595Z"
    },
    "init_cell": true
   },
   "outputs": [],
   "source": [
    "# core dependencies\n",
    "import sys, torch\n",
    "import matplotlib as mpl\n",
    "import matplotlib.pyplot as plt\n",
    "import numpy as np\n",
    "import pandas as pd\n",
    "import pytorch_lightning as pl\n",
    "sys.path.insert(0, wd)"
   ]
  },
  {
   "cell_type": "code",
   "execution_count": null,
   "metadata": {
    "ExecuteTime": {
     "end_time": "2021-03-23T02:54:52.108896Z",
     "start_time": "2021-03-23T02:54:52.096758Z"
    },
    "init_cell": true
   },
   "outputs": [],
   "source": [
    "# custom class for pytorch dataset\n",
    "from classes.pytorch import Dataset"
   ]
  },
  {
   "cell_type": "code",
   "execution_count": null,
   "metadata": {
    "ExecuteTime": {
     "end_time": "2021-03-23T02:54:52.117849Z",
     "start_time": "2021-03-23T02:54:52.112613Z"
    },
    "init_cell": true
   },
   "outputs": [],
   "source": [
    "# custom class for pytorch model\n",
    "from classes.pytorch import Classifier"
   ]
  },
  {
   "cell_type": "code",
   "execution_count": null,
   "metadata": {
    "ExecuteTime": {
     "end_time": "2021-03-23T02:54:52.126439Z",
     "start_time": "2021-03-23T02:54:52.120755Z"
    },
    "init_cell": true
   },
   "outputs": [],
   "source": [
    "from torch.utils.data import DataLoader"
   ]
  },
  {
   "cell_type": "code",
   "execution_count": null,
   "metadata": {
    "ExecuteTime": {
     "end_time": "2021-03-23T02:54:52.144309Z",
     "start_time": "2021-03-23T02:54:52.131391Z"
    },
    "code_folding": [
     0
    ],
    "init_cell": true
   },
   "outputs": [],
   "source": [
    "# adjust the plotting and display settings\n",
    "%matplotlib inline\n",
    "mpl.rcParams['figure.dpi']= 1000\n",
    "\n",
    "from IPython.display import Markdown\n",
    "pd.set_option('display.max_rows', 10)\n",
    "pd.set_option('display.max_columns', 5)"
   ]
  },
  {
   "cell_type": "markdown",
   "metadata": {},
   "source": [
    "## Load training, validation datasets"
   ]
  },
  {
   "cell_type": "code",
   "execution_count": null,
   "metadata": {
    "ExecuteTime": {
     "end_time": "2021-03-23T03:01:53.958116Z",
     "start_time": "2021-03-23T02:54:56.813739Z"
    }
   },
   "outputs": [],
   "source": [
    "training = Dataset(root_dir=f'{dd}/training', rel_path='*/*/*/*/ExpressionData.csv', overwrite=False, batchSize=512) "
   ]
  },
  {
   "cell_type": "code",
   "execution_count": null,
   "metadata": {
    "ExecuteTime": {
     "end_time": "2021-03-23T03:02:49.512938Z",
     "start_time": "2021-03-23T03:01:53.963145Z"
    }
   },
   "outputs": [],
   "source": [
    "validation = Dataset(root_dir=f'{dd}/validation', rel_path='*/*/*/*/ExpressionData.csv', overwrite=False, batchSize=512)"
   ]
  },
  {
   "cell_type": "code",
   "execution_count": null,
   "metadata": {
    "ExecuteTime": {
     "end_time": "2021-03-23T03:02:49.547556Z",
     "start_time": "2021-03-23T03:02:49.516856Z"
    }
   },
   "outputs": [],
   "source": [
    "%load_ext tensorboard\n",
    "%tensorboard --logdir lightning_logs/ --port=6008"
   ]
  },
  {
   "cell_type": "code",
   "execution_count": null,
   "metadata": {
    "ExecuteTime": {
     "end_time": "2021-03-23T04:12:21.601812Z",
     "start_time": "2021-03-23T03:57:48.097614Z"
    }
   },
   "outputs": [],
   "source": [
    "trainer = pl.Trainer(\n",
    "#                      default_root_dir=wd,\n",
    "                     log_every_n_steps=1)\n",
    "\n",
    "model = Classifier(lr=1e-2)\n",
    "\n",
    "train_loader = DataLoader(training, \n",
    "                          batch_size=None, \n",
    "                          shuffle=True, \n",
    "                          num_workers=4)\n",
    "\n",
    "val_loader = DataLoader(validation, \n",
    "                        batch_size=None, \n",
    "                        num_workers=4)\n",
    "\n",
    "trainer.fit(model, train_loader, val_loader)"
   ]
  },
  {
   "cell_type": "code",
   "execution_count": null,
   "metadata": {},
   "outputs": [],
   "source": []
  }
 ],
 "metadata": {
  "kernelspec": {
   "display_name": "Python [conda env:deep-learning]",
   "language": "python",
   "name": "conda-env-deep-learning-py"
  },
  "language_info": {
   "codemirror_mode": {
    "name": "ipython",
    "version": 3
   },
   "file_extension": ".py",
   "mimetype": "text/x-python",
   "name": "python",
   "nbconvert_exporter": "python",
   "pygments_lexer": "ipython3",
   "version": "3.6.12"
  },
  "toc": {
   "base_numbering": 1,
   "nav_menu": {},
   "number_sections": true,
   "sideBar": true,
   "skip_h1_title": true,
   "title_cell": "Table of Contents",
   "title_sidebar": "Contents",
   "toc_cell": false,
   "toc_position": {
    "height": "calc(100% - 180px)",
    "left": "10px",
    "top": "150px",
    "width": "258px"
   },
   "toc_section_display": true,
   "toc_window_display": true
  }
 },
 "nbformat": 4,
 "nbformat_minor": 4
}
