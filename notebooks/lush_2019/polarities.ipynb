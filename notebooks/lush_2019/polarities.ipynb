{
 "cells": [
  {
   "cell_type": "markdown",
   "metadata": {},
   "source": [
    "# Find differentially expressed genes between hair cells of opposite polarities"
   ]
  },
  {
   "cell_type": "code",
   "execution_count": null,
   "metadata": {},
   "outputs": [],
   "source": [
    "wd = '/Users/calebreagor/Documents/hudspeth-lab'\n",
    "\n",
    "# script dependencies\n",
    "import sys, pickle\n",
    "import h5py, rpy2\n",
    "import matplotlib as mpl\n",
    "import matplotlib.pyplot as plt\n",
    "import numpy as np\n",
    "import pandas as pd\n",
    "import seaborn as sns\n",
    "sys.path.insert(0, wd)\n",
    "\n",
    "# custom class for scRNA-seq datasets\n",
    "from classes.singlecell import dataset\n",
    "\n",
    "# R interface via rpy2\n",
    "from rpy2 import robjects\n",
    "from rpy2.robjects.packages import importr\n",
    "from rpy2.robjects import numpy2ri\n",
    "from rpy2.robjects import pandas2ri\n",
    "numpy2ri.activate()\n",
    "pandas2ri.activate()\n",
    "base = importr(\"base\")\n",
    "dollar = base.__dict__[\"$\"]\n",
    "\n",
    "%matplotlib inline\n",
    "mpl.rcParams['figure.dpi']= 1000\n",
    "\n",
    "from IPython.display import Markdown\n",
    "pd.set_option('display.max_rows', 10)\n",
    "pd.set_option('display.max_columns', 5)"
   ]
  },
  {
   "cell_type": "code",
   "execution_count": null,
   "metadata": {},
   "outputs": [],
   "source": [
    "# load trajectory dataset from pickle file\n",
    "with open('diff_traj.pickle', 'rb') as f:\n",
    "    diff_traj = pickle.load(f)"
   ]
  },
  {
   "cell_type": "code",
   "execution_count": null,
   "metadata": {},
   "outputs": [],
   "source": [
    "# # new dataset object for polarizing hair cells\n",
    "# pols = dataset(name='polarizing hair cells')\n",
    "\n",
    "# # cell barcodes for differentiating central support cells\n",
    "# cells = lush4i.loc[lush4i['cluster'].isin([14,4])].index\n",
    "\n",
    "# # assign data from previous trajectory dataset object\n",
    "# pols.raw_counts = diff_traj.raw_counts.loc[cells]\n",
    "# pols.normalized = diff_traj.normalized.loc[cells]\n",
    "# pols.imputed = diff_traj.imputed.loc[cells]\n",
    "# pols.pseudotimes = diff_traj.pseudotimes[cells]\n",
    "# pols.clusters = diff_traj.clusters[cells]\n",
    "\n",
    "# display(Markdown('### Hair cells undergoing the polarity determination (imputed counts)'))\n",
    "# display(pols.imputed)"
   ]
  },
  {
   "cell_type": "markdown",
   "metadata": {},
   "source": [
    "### Embed cells in low dimensions using known polarity genes"
   ]
  },
  {
   "cell_type": "code",
   "execution_count": null,
   "metadata": {},
   "outputs": [],
   "source": [
    "# # load polarity genes: deltas, notch genes, emx2\n",
    "# pol_genes = pd.read_csv('refs/polarity_genes.csv')\n",
    "# pol_genes.set_index('Ensembl_id', drop=False, inplace=True)\n",
    "# g = pol_genes['Ensembl_id'].isin(pols.imputed.columns).index\n",
    "# g_names = pol_genes.loc[g]\n",
    "# g_names.drop('Ensembl_id', axis=1, inplace=True)\n",
    "\n",
    "# # dimensionality reduction\n",
    "# pols.embed_pca(data='imputed', \n",
    "#                n_components=5, \n",
    "#                genes=g)\n",
    "\n",
    "# # t-stochastic neighbor embedding\n",
    "# pols.embed_tsne(data='pca')\n",
    "\n",
    "# display(Markdown('### Polarity genes'))\n",
    "# display(g_names)"
   ]
  },
  {
   "cell_type": "markdown",
   "metadata": {},
   "source": [
    "### Fit a principal curve to the differentiating hair cell trajectory"
   ]
  },
  {
   "cell_type": "code",
   "execution_count": null,
   "metadata": {},
   "outputs": [],
   "source": [
    "# # use the princurve package in R\n",
    "# princurve = importr('princurve', on_conflict='warn')\n",
    "# pc = princurve.principal_curve(pols.tsne_embedding.values)\n",
    "# cur = np.array(dollar(pc,'s'))\n",
    "# ordr = np.array(dollar(pc,'ord')) - 1\n",
    "\n",
    "# pol_point = -35 # polarization point\n",
    "# tsne1_pre = cur[ordr,0][:pol_point+1]\n",
    "# tsne2_pre = cur[ordr,1][:pol_point+1]\n",
    "# tsne1_pol = cur[ordr,0][pol_point:]\n",
    "# tsne2_pol = cur[ordr,1][pol_point:]\n",
    "\n",
    "# # new cluster labels for hair cells split by principal curve\n",
    "# new_labels = pols.tsne_embedding.iloc[ordr,1][pol_point:] > tsne2_pol\n",
    "# pols.clusters.loc[new_labels.index] = new_labels.astype(np.int)"
   ]
  },
  {
   "cell_type": "code",
   "execution_count": null,
   "metadata": {},
   "outputs": [],
   "source": [
    "# # plot the polarity tsne and principal curve\n",
    "# pols.plot_embedding(data='tsne', ar=0.6, \n",
    "#                     labels=['central s.c.', \n",
    "#                             'diff s.c.', \n",
    "#                             'polarity0',\n",
    "#                             'polarity1'])\n",
    "\n",
    "# pols.embedding_axes.plot(tsne1_pol, \n",
    "#                          tsne2_pol, \n",
    "#                          c='gray')\n",
    "\n",
    "# pols.embedding_axes.plot(tsne1_pre, \n",
    "#                          tsne2_pre,\n",
    "#                          linestyle='--', \n",
    "#                          c='gray')\n",
    "# display(Markdown('### A principal curve separates differentiating hair cells of opposite polarities'))\n",
    "# display(Markdown('* tSNE embedding based only on genes known to participate in the polarity determination'))\n",
    "# plt.show()"
   ]
  },
  {
   "cell_type": "markdown",
   "metadata": {},
   "source": [
    "### Test for differential gene expression between cells of opposite polarities"
   ]
  },
  {
   "cell_type": "code",
   "execution_count": null,
   "metadata": {},
   "outputs": [],
   "source": [
    "# # deseq2 diff expression analysis\n",
    "# pols.diff_exp2(clusters=[0,1])"
   ]
  },
  {
   "cell_type": "markdown",
   "metadata": {},
   "source": [
    "### Plot expression of known polarity genes"
   ]
  },
  {
   "cell_type": "code",
   "execution_count": null,
   "metadata": {},
   "outputs": [],
   "source": [
    "# pols.plot_violin(clusters=[0,1], cluster_labels=['polarity0', 'polarity1'],\n",
    "#                  gene=g_names.index[5], gene_label=g_names['gene_name'].values[5], ar=1)"
   ]
  },
  {
   "cell_type": "code",
   "execution_count": null,
   "metadata": {},
   "outputs": [],
   "source": [
    "# pols.plot_violin(clusters=[0,1], cluster_labels=['polarity0', 'polarity1'],\n",
    "#                  gene='ENSDARG00000054562', gene_label='her15.1', ar=0.2)"
   ]
  }
 ],
 "metadata": {
  "kernelspec": {
   "display_name": "Python 3",
   "language": "python",
   "name": "python3"
  },
  "language_info": {
   "codemirror_mode": {
    "name": "ipython",
    "version": 3
   },
   "file_extension": ".py",
   "mimetype": "text/x-python",
   "name": "python",
   "nbconvert_exporter": "python",
   "pygments_lexer": "ipython3",
   "version": "3.8.5"
  }
 },
 "nbformat": 4,
 "nbformat_minor": 4
}
