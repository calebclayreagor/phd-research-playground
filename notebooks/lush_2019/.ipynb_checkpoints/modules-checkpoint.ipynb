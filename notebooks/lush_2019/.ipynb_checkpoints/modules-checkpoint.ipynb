{
 "cells": [
  {
   "cell_type": "markdown",
   "metadata": {},
   "source": [
    "# Cluster gene trajectories into modules"
   ]
  },
  {
   "cell_type": "code",
   "execution_count": null,
   "metadata": {},
   "outputs": [],
   "source": [
    "wd = '/Users/calebreagor/Documents/hudspeth-lab'\n",
    "\n",
    "# script dependencies\n",
    "import sys, pickle\n",
    "import h5py, rpy2\n",
    "import matplotlib as mpl\n",
    "import matplotlib.pyplot as plt\n",
    "import numpy as np\n",
    "import pandas as pd\n",
    "import seaborn as sns\n",
    "sys.path.insert(0, wd)\n",
    "\n",
    "# custom class for scRNA-seq datasets\n",
    "from classes.singlecell import dataset\n",
    "\n",
    "# R interface via rpy2\n",
    "from rpy2 import robjects\n",
    "from rpy2.robjects.packages import importr\n",
    "from rpy2.robjects import numpy2ri\n",
    "from rpy2.robjects import pandas2ri\n",
    "numpy2ri.activate()\n",
    "pandas2ri.activate()\n",
    "base = importr(\"base\")\n",
    "dollar = base.__dict__[\"$\"]"
   ]
  },
  {
   "cell_type": "code",
   "execution_count": null,
   "metadata": {},
   "outputs": [],
   "source": [
    "%matplotlib inline\n",
    "mpl.rcParams['figure.dpi']= 1000\n",
    "\n",
    "from IPython.display import Markdown\n",
    "pd.set_option('display.max_rows', 10)\n",
    "pd.set_option('display.max_columns', 5)"
   ]
  },
  {
   "cell_type": "markdown",
   "metadata": {},
   "source": [
    "---\n",
    "## Cluster gene trajectories into modules"
   ]
  },
  {
   "cell_type": "code",
   "execution_count": null,
   "metadata": {},
   "outputs": [],
   "source": [
    "# load trajectory dataset from pickle file\n",
    "with open('diff_traj.pickle', 'rb') as f:\n",
    "    diff_traj = pickle.load(f)"
   ]
  },
  {
   "cell_type": "code",
   "execution_count": null,
   "metadata": {},
   "outputs": [],
   "source": [
    "# load lateral line genes (lush et al. & zfin)\n",
    "lat_line = pd.read_csv('refs/drerio_latline.csv')\n",
    "\n",
    "# bin data in pseudotime and expression domains:\n",
    "# * binning in pseudotime spaces the data more evenly\n",
    "# *** performed via simple histogram binning\n",
    "# * binning in expression allows us to calculate MI \n",
    "# *** performed via Bayesian blocks adaptive binning\n",
    "\n",
    "diff_traj.bin_data(data = 'imputed', in_pt = True, pt_bin = 0.025,\n",
    "                   genes = lat_line['Ensembl_id'].unique())\n",
    "\n",
    "display(Markdown('### Bin imputed data in pseudotime and expression'))\n",
    "display(diff_traj.binned)"
   ]
  },
  {
   "cell_type": "code",
   "execution_count": null,
   "metadata": {},
   "outputs": [],
   "source": [
    "# find pairwise gene similarities (adjusted MI)\n",
    "diff_traj.find_gene_similarities(n_runs=10)\n",
    "\n",
    "display(Markdown('### Gene similarities (Adjusted Mutual Information)'))\n",
    "display(diff_traj.gene_similarities)"
   ]
  },
  {
   "cell_type": "markdown",
   "metadata": {},
   "source": [
    "### Find the optimal number of clusters using spectral clustering and silhouette score"
   ]
  },
  {
   "cell_type": "code",
   "execution_count": null,
   "metadata": {},
   "outputs": [],
   "source": [
    "diff_traj.cluster_genes(n_components=2, max_clusters=20, plot_silhouette=True)"
   ]
  },
  {
   "cell_type": "markdown",
   "metadata": {},
   "source": [
    "### Plot average gene module trajectories and errors"
   ]
  },
  {
   "cell_type": "code",
   "execution_count": null,
   "metadata": {},
   "outputs": [],
   "source": [
    "# plot smoothened average and errors for each module\n",
    "diff_traj.plot_modules(data='imputed', smoothing=0.1)\n",
    "\n",
    "# add labels for cell stage\n",
    "for ax in diff_traj.module_axes:\n",
    "    y, a, z, v = 0.5, 0.33, 0, 'center'\n",
    "    ax.text(diff_traj.pseudotimes.iloc[np.where(diff_traj.clusters==14)].min(),\n",
    "            y, 'central s.c.', va=v, ha='left', alpha=a, zorder=z)\n",
    "    ax.text(diff_traj.pseudotimes.iloc[np.where(diff_traj.clusters==4)].max(),\n",
    "            y, 'diff. s.c.', va=v, ha='left', alpha=a, zorder=z)\n",
    "    ax.text(diff_traj.pseudotimes.iloc[np.where(diff_traj.clusters==2)].mean(),\n",
    "            y, 'young h.c.', va=v, ha='center', alpha=a, zorder=z)\n",
    "    ax.text(diff_traj.pseudotimes.iloc[np.where(diff_traj.clusters==1)].mean(),\n",
    "            y, 'mature h.c.', va=v, ha='center', alpha=a, zorder=z)"
   ]
  },
  {
   "cell_type": "markdown",
   "metadata": {},
   "source": [
    "---\n",
    "## Cell signaling pathway enrichment in pseudotime"
   ]
  },
  {
   "cell_type": "code",
   "execution_count": null,
   "metadata": {},
   "outputs": [],
   "source": [
    "# order genes along pseudotime axis\n",
    "# * criteria: maximum expression pseudotime\n",
    "\n",
    "diff_traj.order_genes_pt(method='max')\n",
    "\n",
    "display(Markdown('### Maximum expression'))\n",
    "display(diff_traj.genes_1d)"
   ]
  },
  {
   "cell_type": "code",
   "execution_count": null,
   "metadata": {},
   "outputs": [],
   "source": [
    "# bin genes in pseudotime and perform GO analysis\n",
    "# * term enrichment for KEGG pathways via Enrichr\n",
    "\n",
    "display(Markdown('### GO term enrichment for developmental cell signaling pathways'))\n",
    "\n",
    "diff_traj.pathway_ea_in_pt(pathways = ['Cell cycle',\n",
    "                           'Notch signaling pathway',\n",
    "                           'Wnt signaling pathway',\n",
    "                           'Hedgehog signaling pathway',\n",
    "                           'TGF-beta signaling pathway'],\n",
    "                            pt_bin=0.09999, plot=True)"
   ]
  }
 ],
 "metadata": {
  "kernelspec": {
   "display_name": "Python [conda env:hudspeth-lab]",
   "language": "python",
   "name": "conda-env-hudspeth-lab-py"
  },
  "language_info": {
   "codemirror_mode": {
    "name": "ipython",
    "version": 3
   },
   "file_extension": ".py",
   "mimetype": "text/x-python",
   "name": "python",
   "nbconvert_exporter": "python",
   "pygments_lexer": "ipython3",
   "version": "3.7.7"
  }
 },
 "nbformat": 4,
 "nbformat_minor": 4
}
