{
 "cells": [
  {
   "cell_type": "markdown",
   "metadata": {},
   "source": [
    "# Single Cell Expression of Semaphorin7a Isoforms"
   ]
  },
  {
   "cell_type": "code",
   "execution_count": 1,
   "metadata": {
    "ExecuteTime": {
     "end_time": "2021-03-18T19:59:32.348923Z",
     "start_time": "2021-03-18T19:59:32.333641Z"
    },
    "init_cell": true
   },
   "outputs": [],
   "source": [
    "# set the working directory\n",
    "wd = '/Users/calebreagor/Documents/hudspeth-lab'"
   ]
  },
  {
   "cell_type": "code",
   "execution_count": 2,
   "metadata": {
    "ExecuteTime": {
     "end_time": "2021-03-18T19:59:36.481113Z",
     "start_time": "2021-03-18T19:59:32.358017Z"
    },
    "init_cell": true
   },
   "outputs": [],
   "source": [
    "# core dependencies\n",
    "import sys, pickle\n",
    "import h5py, rpy2\n",
    "import matplotlib as mpl\n",
    "import matplotlib.pyplot as plt\n",
    "import numpy as np\n",
    "import pandas as pd\n",
    "import seaborn as sns\n",
    "sys.path.insert(0, wd)"
   ]
  },
  {
   "cell_type": "code",
   "execution_count": 3,
   "metadata": {
    "ExecuteTime": {
     "end_time": "2021-03-18T19:59:52.461058Z",
     "start_time": "2021-03-18T19:59:36.489068Z"
    },
    "init_cell": true
   },
   "outputs": [],
   "source": [
    "# custom class for scRNA-seq datasets\n",
    "from classes.singlecell import dataset"
   ]
  },
  {
   "cell_type": "code",
   "execution_count": 4,
   "metadata": {
    "ExecuteTime": {
     "end_time": "2021-03-18T19:59:52.474831Z",
     "start_time": "2021-03-18T19:59:52.465287Z"
    },
    "code_folding": [
     0
    ],
    "init_cell": true
   },
   "outputs": [],
   "source": [
    "# adjust the plotting and display settings\n",
    "%matplotlib inline\n",
    "mpl.rcParams['figure.dpi']= 1000\n",
    "\n",
    "from IPython.display import Markdown\n",
    "pd.set_option('display.max_rows', 10)\n",
    "pd.set_option('display.max_columns', 5)"
   ]
  },
  {
   "cell_type": "markdown",
   "metadata": {},
   "source": [
    "## Lush et al., 2019"
   ]
  },
  {
   "cell_type": "code",
   "execution_count": 5,
   "metadata": {
    "ExecuteTime": {
     "end_time": "2021-03-18T19:59:53.653613Z",
     "start_time": "2021-03-18T19:59:52.477122Z"
    },
    "code_folding": [
     4
    ]
   },
   "outputs": [
    {
     "data": {
      "text/plain": [
       "ENSDART00000127274.4    99\n",
       "ENSDART00000156179.2     0\n",
       "dtype: int64"
      ]
     },
     "execution_count": 5,
     "metadata": {},
     "output_type": "execute_result"
    }
   ],
   "source": [
    "lush_sema7a = dataset(name='lush et al., 2019 - sem7a')\n",
    "dd = f'{wd}/geo-datasets/drerio/GSE123241'\n",
    "f = h5py.File(f'{dd}/GSE123241_sema7a.h5','r')\n",
    "\n",
    "lush_sema7a.raw_counts_from_sparse_matrix(\n",
    "    \n",
    "    cell_names = [i.decode('ascii') for i in f['matrix']['barcodes'][:]],\n",
    "    gene_names = [i.decode('ascii') for i in f['matrix']['features']['id'][:]], \n",
    "    data = f['matrix']['data'], dtype = 'i4', indices = f['matrix']['indices'],\n",
    "    indptr = f['matrix']['indptr'], shape = tuple(reversed(f['matrix']['shape'])) )\n",
    "\n",
    "lush_sema7a.raw_counts[['ENSDART00000127274.4', 'ENSDART00000156179.2']].sum(axis=0)"
   ]
  },
  {
   "cell_type": "code",
   "execution_count": null,
   "metadata": {},
   "outputs": [],
   "source": []
  }
 ],
 "metadata": {
  "kernelspec": {
   "display_name": "Python [conda env:hudspeth-lab]",
   "language": "python",
   "name": "conda-env-hudspeth-lab-py"
  },
  "language_info": {
   "codemirror_mode": {
    "name": "ipython",
    "version": 3
   },
   "file_extension": ".py",
   "mimetype": "text/x-python",
   "name": "python",
   "nbconvert_exporter": "python",
   "pygments_lexer": "ipython3",
   "version": "3.7.7"
  },
  "toc": {
   "base_numbering": 1,
   "nav_menu": {},
   "number_sections": true,
   "sideBar": true,
   "skip_h1_title": true,
   "title_cell": "Table of Contents",
   "title_sidebar": "Contents",
   "toc_cell": false,
   "toc_position": {},
   "toc_section_display": true,
   "toc_window_display": true
  }
 },
 "nbformat": 4,
 "nbformat_minor": 4
}
