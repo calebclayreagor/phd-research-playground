{
 "cells": [
  {
   "cell_type": "markdown",
   "metadata": {},
   "source": [
    "# Theoretical Model of Axonal Pathfinding"
   ]
  },
  {
   "cell_type": "code",
   "execution_count": null,
   "metadata": {
    "ExecuteTime": {
     "end_time": "2021-03-19T18:59:14.506289Z",
     "start_time": "2021-03-19T18:59:14.501567Z"
    },
    "init_cell": true
   },
   "outputs": [],
   "source": [
    "# set the working directory\n",
    "wd = '/Users/calebreagor/Documents/hudspeth-lab'"
   ]
  },
  {
   "cell_type": "code",
   "execution_count": null,
   "metadata": {
    "ExecuteTime": {
     "end_time": "2021-03-19T18:59:18.905969Z",
     "start_time": "2021-03-19T18:59:14.517057Z"
    },
    "init_cell": true
   },
   "outputs": [],
   "source": [
    "# core dependencies\n",
    "import sys, pickle\n",
    "import h5py, rpy2\n",
    "import matplotlib as mpl\n",
    "import matplotlib.pyplot as plt\n",
    "import numpy as np\n",
    "import pandas as pd\n",
    "import seaborn as sns\n",
    "sys.path.insert(0, wd)"
   ]
  },
  {
   "cell_type": "code",
   "execution_count": null,
   "metadata": {
    "ExecuteTime": {
     "end_time": "2021-03-19T18:59:27.618755Z",
     "start_time": "2021-03-19T18:59:18.909053Z"
    },
    "init_cell": true
   },
   "outputs": [],
   "source": [
    "# custom class for Monte Carlo simulations\n",
    "from classes.montecarlo import branching_model"
   ]
  },
  {
   "cell_type": "code",
   "execution_count": null,
   "metadata": {
    "ExecuteTime": {
     "end_time": "2021-03-19T18:59:27.647488Z",
     "start_time": "2021-03-19T18:59:27.624557Z"
    },
    "code_folding": [
     0
    ],
    "init_cell": true
   },
   "outputs": [],
   "source": [
    "# adjust the plotting and display settings\n",
    "%matplotlib inline\n",
    "mpl.rcParams['figure.dpi']= 1000\n",
    "\n",
    "from IPython.display import Markdown\n",
    "pd.set_option('display.max_rows', 10)\n",
    "pd.set_option('display.max_columns', 5)"
   ]
  },
  {
   "cell_type": "markdown",
   "metadata": {},
   "source": [
    "## Metropolis MC Random Walk"
   ]
  },
  {
   "cell_type": "code",
   "execution_count": null,
   "metadata": {
    "ExecuteTime": {
     "end_time": "2021-03-19T18:59:28.830666Z",
     "start_time": "2021-03-19T18:59:27.652182Z"
    }
   },
   "outputs": [],
   "source": [
    "model = branching_model(f'{wd}/3dpf/Composite_3.tiff', xy_res = 65., z_res = 200.) "
   ]
  },
  {
   "cell_type": "code",
   "execution_count": null,
   "metadata": {
    "ExecuteTime": {
     "end_time": "2021-03-19T18:59:34.885718Z",
     "start_time": "2021-03-19T18:59:28.838049Z"
    }
   },
   "outputs": [],
   "source": [
    "model.segment_stack(diameter=60)"
   ]
  },
  {
   "cell_type": "code",
   "execution_count": null,
   "metadata": {
    "ExecuteTime": {
     "end_time": "2021-03-19T18:59:36.636333Z",
     "start_time": "2021-03-19T18:59:34.888465Z"
    }
   },
   "outputs": [],
   "source": [
    "model.show_segmentation(separate_channels=False, annotate=[[530,570],[25]])"
   ]
  },
  {
   "cell_type": "code",
   "execution_count": null,
   "metadata": {
    "ExecuteTime": {
     "end_time": "2021-03-19T19:00:20.783551Z",
     "start_time": "2021-03-19T19:00:19.869138Z"
    },
    "code_folding": []
   },
   "outputs": [],
   "source": [
    "model.simulate_metropolisMC(start=[[530,570],[25]], nsteps=1000, nseeds=2, d=0.5, σ=2.0, U=10, s=1.0, U2=50)"
   ]
  },
  {
   "cell_type": "code",
   "execution_count": null,
   "metadata": {
    "ExecuteTime": {
     "end_time": "2021-03-19T19:00:22.837342Z",
     "start_time": "2021-03-19T19:00:21.132833Z"
    }
   },
   "outputs": [],
   "source": [
    "model.plot_trajectories(xtickinterval=2, ytickinterval=2)"
   ]
  },
  {
   "cell_type": "code",
   "execution_count": null,
   "metadata": {
    "ExecuteTime": {
     "end_time": "2021-03-19T16:00:47.198674Z",
     "start_time": "2021-03-19T16:00:42.521400Z"
    }
   },
   "outputs": [],
   "source": [
    "# from skimage.draw import ellipse_perimeter, ellipse\n",
    "# xx, yy = ellipse_perimeter(520, 65, 250, 35)\n",
    "# xx_, yy_ = ellipse(520, 65, 250, 35)\n",
    "# ellipse_mask = np.zeros(model.xz_maxNorm[...,1].shape)\n",
    "# ellipse_mask[yy_, xx_] = 1.\n",
    "\n",
    "# fig, ax = plt.subplots(1,2, sharex=True, sharey=True)\n",
    "\n",
    "xtickinterval, ytickinterval = 2, 2\n",
    "\n",
    "axons = model.xz_maxNorm[...,1].copy()\n",
    "# trajs = model.pos_mask.copy()\n",
    "\n",
    "threshold, bw = 0.2, False\n",
    "\n",
    "if bw==True:\n",
    "    axons[np.where((axons<threshold))] = 0.\n",
    "    axons[axons>0.] = 1.\n",
    "    \n",
    "\n",
    "plt.imshow(model.xz_maxNorm, aspect=model.aspect, origin='lower', cmap='gray')\n",
    "plt.scatter(model.membrane[:,0], model.membrane[:,1]/model.aspect, c='r', s=1)\n",
    "# plt.scatter(xx, yy, c='r', s=0.1)\n",
    "\n",
    "ax = plt.gca()\n",
    "\n",
    "y_upper, x_upper, _ = model.xz_maxNorm.shape\n",
    "\n",
    "xticklabels = np.arange(0, x_upper / 1e3 * model.xy_res, xtickinterval)\n",
    "yticklabels = np.arange(0, y_upper / 1e3 * model.z_res, ytickinterval)\n",
    "xticklocs = xticklabels * 1e3 / model.xy_res\n",
    "yticklocs = yticklabels * 1e3 / model.z_res\n",
    "\n",
    "ax.set_xticks(xticklocs)\n",
    "ax.set_yticks(yticklocs)\n",
    "ax.set_xticklabels(xticklabels.astype(np.int64))\n",
    "ax.set_yticklabels(yticklabels.astype(np.int64))\n",
    "\n",
    "ax.set_xlabel('μm')\n",
    "ax.set_ylabel('μm')\n",
    "ax.grid(True)\n",
    "\n",
    "\n",
    "regions = np.zeros(model.pos_mask.shape)\n",
    "yy, xx = np.indices(regions.shape)\n",
    "\n",
    "n = 1\n",
    "for i in range(xticklocs.size-1):\n",
    "    for j in range(yticklocs.size-1):\n",
    "        x0, x1 = np.round(xticklocs[i:i+2]).astype(np.int64)\n",
    "        y0, y1 = np.round(yticklocs[j:j+2]).astype(np.int64)\n",
    "        regions[np.where((xx>=x0)&(xx<x1)&(yy>=y0)&(yy<y1))] = n\n",
    "        n += 1\n",
    "\n",
    "for i in np.unique(regions)[1:]:\n",
    "    y, x = np.where(regions==i)\n",
    "    plt.text(x=x.mean(), y=y.mean(), s=str(int(i)), size=4, color='w', ha='center')\n",
    "\n",
    "# plt.show()\n",
    "plt.tight_layout()"
   ]
  },
  {
   "cell_type": "code",
   "execution_count": null,
   "metadata": {
    "ExecuteTime": {
     "end_time": "2021-03-18T19:54:22.158522Z",
     "start_time": "2021-03-18T19:54:21.623132Z"
    }
   },
   "outputs": [],
   "source": [
    "from scipy.stats import entropy\n",
    "\n",
    "\n",
    "\n",
    "entropy(pk, qk)"
   ]
  },
  {
   "cell_type": "code",
   "execution_count": null,
   "metadata": {
    "ExecuteTime": {
     "end_time": "2021-03-16T13:54:51.278425Z",
     "start_time": "2021-03-16T13:54:51.172682Z"
    }
   },
   "outputs": [],
   "source": []
  },
  {
   "cell_type": "code",
   "execution_count": null,
   "metadata": {
    "ExecuteTime": {
     "end_time": "2021-03-16T14:17:24.018110Z",
     "start_time": "2021-03-16T14:17:23.961515Z"
    }
   },
   "outputs": [],
   "source": []
  },
  {
   "cell_type": "code",
   "execution_count": null,
   "metadata": {},
   "outputs": [],
   "source": []
  }
 ],
 "metadata": {
  "kernelspec": {
   "display_name": "Python [conda env:hudspeth-lab]",
   "language": "python",
   "name": "conda-env-hudspeth-lab-py"
  },
  "language_info": {
   "codemirror_mode": {
    "name": "ipython",
    "version": 3
   },
   "file_extension": ".py",
   "mimetype": "text/x-python",
   "name": "python",
   "nbconvert_exporter": "python",
   "pygments_lexer": "ipython3",
   "version": "3.7.7"
  },
  "toc": {
   "base_numbering": 1,
   "nav_menu": {},
   "number_sections": true,
   "sideBar": true,
   "skip_h1_title": true,
   "title_cell": "Table of Contents",
   "title_sidebar": "Contents",
   "toc_cell": false,
   "toc_position": {
    "height": "calc(100% - 180px)",
    "left": "10px",
    "top": "150px",
    "width": "165px"
   },
   "toc_section_display": true,
   "toc_window_display": true
  }
 },
 "nbformat": 4,
 "nbformat_minor": 4
}
