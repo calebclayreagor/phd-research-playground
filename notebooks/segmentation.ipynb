{
 "cells": [
  {
   "cell_type": "markdown",
   "metadata": {},
   "source": [
    "# Neuromast segmentation pipeline\n",
    "\n",
    "**Caleb Reagor, Rockefeller University**\n",
    "\n",
    "Notebook summary:\n",
    "* Segment images from stacks using Cellpose\n",
    "* Link masks using a particle tracking algorithm\n",
    "* Optionally segment early frames manually\n",
    "* Compute & save cells' normalized intensities"
   ]
  },
  {
   "cell_type": "code",
   "execution_count": null,
   "metadata": {},
   "outputs": [],
   "source": [
    "# script dependencies\n",
    "import numpy as np\n",
    "import pandas as pd\n",
    "import scipy as sp\n",
    "import matplotlib\n",
    "\n",
    "# custom class for image stacks\n",
    "# * additional dependencies:\n",
    "#   * cellpose\n",
    "#   * trackpy\n",
    "#   * tqdm\n",
    "#   * pims\n",
    "#   * skimage\n",
    "#   * cv2\n",
    "#   * h5py\n",
    "#   * PIL\n",
    "\n",
    "from idataset import idataset\n",
    "s = '/Volumes/LabDrive/'"
   ]
  },
  {
   "cell_type": "code",
   "execution_count": null,
   "metadata": {},
   "outputs": [],
   "source": [
    "%matplotlib inline\n",
    "matplotlib.rcParams['figure.dpi']= 1000\n",
    "from IPython.display import Markdown"
   ]
  },
  {
   "cell_type": "markdown",
   "metadata": {},
   "source": [
    "## Load all stacks from an imaging experiment"
   ]
  },
  {
   "cell_type": "code",
   "execution_count": null,
   "metadata": {},
   "outputs": [],
   "source": [
    "mov = idataset(date = '122618', exper_id = 's7', \n",
    "               frames_directory = s + 'Raw/', \n",
    "               times_directory = s + 'Timepoints/',\n",
    "               masks_directory = s + 'Masks/',\n",
    "               results_directory = s + 'Results/')"
   ]
  },
  {
   "cell_type": "code",
   "execution_count": null,
   "metadata": {},
   "outputs": [],
   "source": [
    "mov.show_frames_at_depth(19)"
   ]
  },
  {
   "cell_type": "code",
   "execution_count": null,
   "metadata": {},
   "outputs": [],
   "source": [
    "mov.crop_z(zmin = 15, zmax = 23)"
   ]
  },
  {
   "cell_type": "markdown",
   "metadata": {},
   "source": [
    "## Segment images using Cellpose"
   ]
  },
  {
   "cell_type": "code",
   "execution_count": null,
   "metadata": {},
   "outputs": [],
   "source": [
    "# optionally, specify cell diameter in pixels (default 90)\n",
    "# optionally, load previous segmentation results\n",
    "\n",
    "mov.segment_frames(load_prev = True)"
   ]
  },
  {
   "cell_type": "markdown",
   "metadata": {},
   "source": [
    "## Link masks using Trackpy"
   ]
  },
  {
   "cell_type": "code",
   "execution_count": null,
   "metadata": {},
   "outputs": [],
   "source": [
    "# specify parameters for linking masks (first in z, then in time):\n",
    "\n",
    "# * searchRange_t[_z]: the maximum distance features can move\n",
    "#   between frames, in pixels (optional in z)\n",
    "#\n",
    "# * threshold_t[_z]: minimum number of points to survive\n",
    "#   (optional in z)\n",
    "#\n",
    "# * memory_t[_z]: the maximum number of frames during which a\n",
    "#   feature can vanish, then reappear nearby, and be considered\n",
    "#   the same particle (optional)\n",
    "\n",
    "\n",
    "mov.link_masks(searchRange_t = 50, threshold_t = 10, memory_t = 15)"
   ]
  },
  {
   "cell_type": "code",
   "execution_count": null,
   "metadata": {},
   "outputs": [],
   "source": [
    "mov.show_segmentation_at_depth(4)"
   ]
  },
  {
   "cell_type": "markdown",
   "metadata": {},
   "source": [
    "## Optionally, segment some frames manually"
   ]
  },
  {
   "cell_type": "code",
   "execution_count": null,
   "metadata": {
    "scrolled": false
   },
   "outputs": [],
   "source": [
    "%matplotlib notebook\n",
    "mov.draw_masks_manually(t = , z = )"
   ]
  },
  {
   "cell_type": "markdown",
   "metadata": {},
   "source": [
    "## Apply masks to frames to compute cells' per pixel intensities"
   ]
  },
  {
   "cell_type": "code",
   "execution_count": null,
   "metadata": {},
   "outputs": [],
   "source": [
    "# optionally, stitch together specified cells' tracks & average the intensities\n",
    "\n",
    "mov.cell_per_pixel_intensities(combine=[7,8])"
   ]
  },
  {
   "cell_type": "code",
   "execution_count": null,
   "metadata": {},
   "outputs": [],
   "source": [
    "%matplotlib inline\n",
    "matplotlib.rcParams['figure.dpi']= 1000"
   ]
  },
  {
   "cell_type": "markdown",
   "metadata": {},
   "source": [
    "## Plot intensities, and optionally normalize to mature cells"
   ]
  },
  {
   "cell_type": "code",
   "execution_count": null,
   "metadata": {},
   "outputs": [],
   "source": [
    "mov.plot_intensities([0,1,2,3,4,5,6], normalize_by=None)"
   ]
  },
  {
   "cell_type": "code",
   "execution_count": null,
   "metadata": {},
   "outputs": [],
   "source": [
    "mov.plot_intensities([0], normalize_by=[1,2,3,4,5,6])"
   ]
  },
  {
   "cell_type": "code",
   "execution_count": null,
   "metadata": {},
   "outputs": [],
   "source": [
    "mov.save_intensities_to_csv(cell = 0, normalize_by=[1,2,3,4,5,6])"
   ]
  },
  {
   "cell_type": "code",
   "execution_count": null,
   "metadata": {},
   "outputs": [],
   "source": []
  },
  {
   "cell_type": "code",
   "execution_count": null,
   "metadata": {},
   "outputs": [],
   "source": [
    "# to-do: \n",
    "# * manually validate fluorescence results:\n",
    "#   * save_[load_]manual_masks as 4d np arrays\n",
    "#   * option to save manual results separately\n",
    "#   * manually segment at least one stack\n",
    "#\n",
    "# * determine when cells start to fluoresce:\n",
    "#   * select region using modified manual selection code\n",
    "#   * display region on scrollable frame to check accuracy\n",
    "#   * select both region of interest and control region\n",
    "#   * compare selections to determine when cell is fluorescent"
   ]
  },
  {
   "cell_type": "code",
   "execution_count": null,
   "metadata": {},
   "outputs": [],
   "source": [
    "# import pims\n",
    "# z = 4\n",
    "\n",
    "# frames_list, size, border = [], 200, 20\n",
    "# for i in range(mov.n_frames):\n",
    "\n",
    "#     frame = mov.frames[i][z]\n",
    "#     frame = np.clip(frame, mov.one[z], mov.ninety_nine[z])\n",
    "#     frame -= mov.one[z]\n",
    "#     intensity = mov.ninety_nine[z] - mov.one[z]\n",
    "\n",
    "#     # generate the timestamp as a square array (size x size)\n",
    "#     timestamp = mov.text_stamp(\"{:03d}m\".format(mov.timepoints[i]), size, intensity)\n",
    "\n",
    "#     # select the indices where text exists -> frame corner\n",
    "#     idxs = np.stack(list(timestamp.nonzero()), axis=0).T; idxs_frame = idxs.copy()\n",
    "#     idxs_frame[:,0] += frame.shape[0] - timestamp.shape[0] - border\n",
    "#     idxs_frame[:,1] += frame.shape[1] - timestamp.shape[1] - border\n",
    "#     frame[idxs_frame[:,0], idxs_frame[:,1]] = timestamp[idxs[:,0], idxs[:,1]]\n",
    "\n",
    "#     frames_list.append(frame)\n",
    "# pims.Frame(frames_list)"
   ]
  },
  {
   "cell_type": "code",
   "execution_count": null,
   "metadata": {},
   "outputs": [],
   "source": []
  }
 ],
 "metadata": {
  "kernelspec": {
   "display_name": "Python 3",
   "language": "python",
   "name": "python3"
  },
  "language_info": {
   "codemirror_mode": {
    "name": "ipython",
    "version": 3
   },
   "file_extension": ".py",
   "mimetype": "text/x-python",
   "name": "python",
   "nbconvert_exporter": "python",
   "pygments_lexer": "ipython3",
   "version": "3.7.3"
  }
 },
 "nbformat": 4,
 "nbformat_minor": 2
}
