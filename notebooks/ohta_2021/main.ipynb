{
 "cells": [
  {
   "cell_type": "markdown",
   "metadata": {},
   "source": [
    "# Pipeline for Ohta et al., 2021 scRNA-seq experiment"
   ]
  },
  {
   "cell_type": "code",
   "execution_count": 1,
   "metadata": {
    "ExecuteTime": {
     "end_time": "2021-03-04T21:40:26.434236Z",
     "start_time": "2021-03-04T21:40:26.426187Z"
    },
    "code_folding": [],
    "init_cell": true
   },
   "outputs": [],
   "source": [
    "# set the working directory\n",
    "wd = '/Users/calebreagor/Documents/hudspeth-lab'"
   ]
  },
  {
   "cell_type": "code",
   "execution_count": 2,
   "metadata": {
    "ExecuteTime": {
     "end_time": "2021-03-04T21:40:29.294057Z",
     "start_time": "2021-03-04T21:40:26.456641Z"
    },
    "hide_input": false,
    "init_cell": true,
    "scrolled": true
   },
   "outputs": [],
   "source": [
    "# core dependencies\n",
    "import sys, pickle\n",
    "import h5py, rpy2\n",
    "import matplotlib as mpl\n",
    "import matplotlib.pyplot as plt\n",
    "import numpy as np\n",
    "import pandas as pd\n",
    "import seaborn as sns\n",
    "sys.path.insert(0, wd)"
   ]
  },
  {
   "cell_type": "code",
   "execution_count": 3,
   "metadata": {
    "ExecuteTime": {
     "end_time": "2021-03-04T21:40:47.722729Z",
     "start_time": "2021-03-04T21:40:29.304422Z"
    },
    "init_cell": true
   },
   "outputs": [],
   "source": [
    "# custom class for scRNA-seq datasets\n",
    "from classes.singlecell import dataset"
   ]
  },
  {
   "cell_type": "code",
   "execution_count": 4,
   "metadata": {
    "ExecuteTime": {
     "end_time": "2021-03-04T21:40:47.824526Z",
     "start_time": "2021-03-04T21:40:47.755989Z"
    },
    "code_folding": [
     0
    ],
    "init_cell": true
   },
   "outputs": [],
   "source": [
    "# adjust the plotting and display settings\n",
    "%matplotlib inline\n",
    "mpl.rcParams['figure.dpi']= 1000\n",
    "\n",
    "from IPython.display import Markdown\n",
    "pd.set_option('display.max_rows', 10)\n",
    "pd.set_option('display.max_columns', 5)"
   ]
  },
  {
   "cell_type": "markdown",
   "metadata": {},
   "source": [
    "## Load, pre-process & save the single-cell experiment"
   ]
  },
  {
   "cell_type": "code",
   "execution_count": 5,
   "metadata": {
    "ExecuteTime": {
     "end_time": "2021-03-04T21:41:10.747087Z",
     "start_time": "2021-03-04T21:40:47.844741Z"
    },
    "code_folding": [
     4,
     18
    ]
   },
   "outputs": [
    {
     "name": "stdout",
     "output_type": "stream",
     "text": [
      "  Running MAGIC with `solver='exact'` on 11774-dimensional data may take a long time. Consider denoising specific genes with `genes=<list-like>` or using `solver='approximate'`.\n"
     ]
    }
   ],
   "source": [
    "# load GEO dataset from hdf5 file\n",
    "dd = f'{wd}/geo-datasets/drerio/GSE152859'\n",
    "ohta = dataset(name='ohta et al., 2021')\n",
    "f = h5py.File(f'{dd}/GSE152859.h5','r')\n",
    "ohta.raw_counts_from_sparse_matrix(\n",
    "    \n",
    "    cell_names = [i.decode('ascii') for i in f['matrix']['barcodes'][:]],\n",
    "    gene_names = [i.decode('ascii') for i in f['matrix']['features']['id'][:]], \n",
    "    data=f['matrix']['data'], dtype='i4', indices=f['matrix']['indices'],\n",
    "    indptr=f['matrix']['indptr'], shape=tuple(reversed(f['matrix']['shape'])) )\n",
    "\n",
    "# pre-process, scale and impute expression\n",
    "# * filter rare genes and cells with low counts\n",
    "# * normalize library sizes, then log scale\n",
    "# * impute expression using data diffusion\n",
    "ohta.preprocess_raw_counts(library_size_cutoff=(400,2500))\n",
    "ohta.impute_from_normalized(genes='all_genes')\n",
    "\n",
    "with open('class-datasets/ohta.pickle', 'wb') as f:\n",
    "    pickle.dump(ohta, f)"
   ]
  },
  {
   "cell_type": "code",
   "execution_count": null,
   "metadata": {},
   "outputs": [],
   "source": []
  }
 ],
 "metadata": {
  "kernelspec": {
   "display_name": "Python [conda env:hudspeth-lab]",
   "language": "python",
   "name": "conda-env-hudspeth-lab-py"
  },
  "language_info": {
   "codemirror_mode": {
    "name": "ipython",
    "version": 3
   },
   "file_extension": ".py",
   "mimetype": "text/x-python",
   "name": "python",
   "nbconvert_exporter": "python",
   "pygments_lexer": "ipython3",
   "version": "3.7.7"
  },
  "toc": {
   "base_numbering": 1,
   "nav_menu": {},
   "number_sections": true,
   "sideBar": true,
   "skip_h1_title": true,
   "title_cell": "Table of Contents",
   "title_sidebar": "Contents",
   "toc_cell": false,
   "toc_position": {
    "height": "calc(100% - 180px)",
    "left": "10px",
    "top": "150px",
    "width": "455px"
   },
   "toc_section_display": true,
   "toc_window_display": true
  }
 },
 "nbformat": 4,
 "nbformat_minor": 2
}
