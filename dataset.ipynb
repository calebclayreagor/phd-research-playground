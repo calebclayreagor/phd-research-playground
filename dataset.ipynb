{
 "cells": [
  {
   "cell_type": "markdown",
   "metadata": {},
   "source": [
    "# custom class for storing and processing single cell datasets"
   ]
  },
  {
   "cell_type": "code",
   "execution_count": null,
   "metadata": {},
   "outputs": [],
   "source": [
    "import os, scprep, magic\n",
    "import pandas as pd\n",
    "import scipy as sp"
   ]
  },
  {
   "cell_type": "code",
   "execution_count": null,
   "metadata": {},
   "outputs": [],
   "source": [
    "from scipy.sparse import csr_matrix\n",
    "from scprep.filter import filter_rare_genes, filter_library_size\n",
    "from scprep.normalize import library_size_normalize\n",
    "from scprep.transform import log\n",
    "from magic import MAGIC"
   ]
  },
  {
   "cell_type": "code",
   "execution_count": 1,
   "metadata": {},
   "outputs": [],
   "source": [
    "class dataset:\n",
    "    \n",
    "    \n",
    "    def __init__(self,name):\n",
    "        \n",
    "        # whenever updating this, need to update save_dataset func\n",
    "        \n",
    "        self.name = name\n",
    "        self.raw_counts = None\n",
    "        self.raw_counts_data = None\n",
    "        self.raw_counts_indices = None\n",
    "        self.raw_counts_indptr = None\n",
    "        self.raw_counts_shape = None\n",
    "        self.normalized = None\n",
    "        self.imputed = None\n",
    "        self.pseudotimes = None\n",
    "        self.clusters = None\n",
    "#         self.pca_embedding = None\n",
    "#         self.umap_embedding = None\n",
    "#         self.tsne_embedding = None\n",
    "        \n",
    "        \n",
    "    def raw_counts_from_sparse(self, cell_names, gene_names, \n",
    "                               data, indices, indptr, shape, dtype):\n",
    "        \n",
    "        self.raw_counts_data = data\n",
    "        self.raw_counts_indices = indices\n",
    "        self.raw_counts_indptr = indptr\n",
    "        self.raw_counts_shape = shape\n",
    "    \n",
    "        self.raw_counts = pd.DataFrame(\n",
    "                            data=csr_matrix(\n",
    "                                (self.raw_counts_data,\n",
    "                                 self.raw_counts_indices,\n",
    "                                 self.raw_counts_indptr),\n",
    "                                shape=self.raw_counts_shape,\n",
    "                                dtype=dtype).toarray(),\n",
    "                            index=cell_names,    \n",
    "                            columns=gene_names)\n",
    "    \n",
    "    \n",
    "    def scprep_preprocess(self,cutoff):\n",
    "        \n",
    "        self.normalized = filter_rare_genes(self.raw_counts)\n",
    "        self.normalized = filter_library_size(self.normalized,\n",
    "                                              cutoff=cutoff)\n",
    "        self.normalized = library_size_normalize(self.normalized)\n",
    "        self.normalized = log(self.normalized)\n",
    "        \n",
    "        \n",
    "        \n",
    "    def magic_imputation(self,genes):\n",
    "        \n",
    "        magic_op = MAGIC(t='auto',\n",
    "                         verbose=False,\n",
    "                         random_state=0)\n",
    "        \n",
    "        self.imputed = magic_op.fit_transform(self.normalized,\n",
    "                                              genes=genes)"
   ]
  },
  {
   "cell_type": "code",
   "execution_count": null,
   "metadata": {},
   "outputs": [],
   "source": []
  }
 ],
 "metadata": {
  "kernelspec": {
   "display_name": "Python 3",
   "language": "python",
   "name": "python3"
  },
  "language_info": {
   "codemirror_mode": {
    "name": "ipython",
    "version": 3
   },
   "file_extension": ".py",
   "mimetype": "text/x-python",
   "name": "python",
   "nbconvert_exporter": "python",
   "pygments_lexer": "ipython3",
   "version": "3.7.3"
  }
 },
 "nbformat": 4,
 "nbformat_minor": 2
}
