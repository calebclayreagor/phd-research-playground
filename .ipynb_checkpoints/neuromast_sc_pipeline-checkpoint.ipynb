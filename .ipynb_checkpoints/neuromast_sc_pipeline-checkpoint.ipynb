{
 "cells": [
  {
   "cell_type": "markdown",
   "metadata": {},
   "source": [
    "![](neuromasts.jpeg)"
   ]
  },
  {
   "cell_type": "markdown",
   "metadata": {},
   "source": [
    "# Neuromast single cell pipeline \n",
    "\n",
    "**Caleb Reagor, Rockefeller University**\n",
    "\n",
    "Notebook summary:\n",
    "* Cluster gene trajectories into modules\n",
    "* Analyze pathway enrichment in pseudotime\n",
    "* Differential expression analysis of hair cell polarities"
   ]
  },
  {
   "cell_type": "code",
   "execution_count": null,
   "metadata": {},
   "outputs": [],
   "source": [
    "# additional dependencies\n",
    "import h5py, matplotlib, rpy2\n",
    "import matplotlib.pyplot as plt\n",
    "import numpy as np\n",
    "import pandas as pd\n",
    "\n",
    "# R interface via rpy2\n",
    "from rpy2 import robjects\n",
    "import rpy2.robjects.numpy2ri\n",
    "robjects.numpy2ri.activate()\n",
    "from rpy2.robjects.packages import importr\n",
    "base = importr(\"base\")\n",
    "dollar = base.__dict__[\"$\"]\n",
    "\n",
    "\n",
    "# custom class for sc datasets\n",
    "# * additional dependencies:\n",
    "#   * scipy\n",
    "#   * sklearn\n",
    "#   * tqdm\n",
    "#   * scprep\n",
    "#   * gseapy\n",
    "#   * magic-impute\n",
    "#   * bblocks.py\n",
    "\n",
    "from dataset import dataset"
   ]
  },
  {
   "cell_type": "code",
   "execution_count": null,
   "metadata": {},
   "outputs": [],
   "source": [
    "%matplotlib inline\n",
    "matplotlib.rcParams['figure.dpi']= 1000\n",
    "\n",
    "from IPython.display import Markdown\n",
    "pd.set_option('display.max_rows', 10)\n",
    "pd.set_option('display.max_columns', 3)"
   ]
  },
  {
   "cell_type": "markdown",
   "metadata": {},
   "source": [
    "---\n",
    "## Load data from Lush et al., 2019"
   ]
  },
  {
   "cell_type": "code",
   "execution_count": null,
   "metadata": {},
   "outputs": [],
   "source": [
    "lush = dataset(name='lush et al')\n",
    "\n",
    "# load GEO dataset from hdf5 file\n",
    "f = h5py.File(('geo-datasets/'\n",
    "               'GSE123241.h5'),'r')\n",
    "    \n",
    "group = 'danRer10.Ens_84'\n",
    "\n",
    "lush.raw_counts_from_sparse_matrix(\n",
    "    \n",
    "    cell_names = [i.decode('ascii') for i in f[group]['barcodes'][:]],\n",
    "    gene_names = [i.decode('ascii') for i in f[group]['genes'][:]], \n",
    "    data = f[group]['data'], dtype = 'i4', indices = f[group]['indices'],\n",
    "    indptr = f[group]['indptr'], shape = tuple(reversed(f[group]['shape'])) )\n",
    "\n",
    "# load pseudotime/clustering from fig 4I\n",
    "lush4i = pd.read_csv(('geo-datasets/'\n",
    "                      'lush_fig4i.csv'),\n",
    "                     index_col=0)\n",
    "\n",
    "lush4i.sort_values('pseudotime', inplace=True)\n",
    "\n",
    "display(Markdown('### Raw counts'))\n",
    "display(lush.raw_counts)"
   ]
  },
  {
   "cell_type": "code",
   "execution_count": null,
   "metadata": {},
   "outputs": [],
   "source": [
    "# pre-process, scale and impute expression\n",
    "# * filter rare genes and cells with low counts\n",
    "# * normalize library sizes, then log scale\n",
    "# * impute expression using data diffusion\n",
    "\n",
    "lush.preprocess_raw_counts(library_size_cutoff=0) # pre-filtered\n",
    "\n",
    "display(Markdown('### Filtered, normalized and scaled counts'))\n",
    "display(lush.normalized)"
   ]
  },
  {
   "cell_type": "code",
   "execution_count": null,
   "metadata": {},
   "outputs": [],
   "source": [
    "lush.impute_from_normalized(genes='all_genes')\n",
    "\n",
    "display(Markdown('### Imputed counts'))\n",
    "display(lush.imputed)"
   ]
  },
  {
   "cell_type": "code",
   "execution_count": null,
   "metadata": {},
   "outputs": [],
   "source": [
    "# new dataset object for differentiating hair cell trajectory\n",
    "diff_traj = dataset(name='diff hair cell trajectory')\n",
    "\n",
    "# cell barcodes for cells in the trajectory\n",
    "trajectory = lush4i.loc[lush4i['cluster'].isin([14,4,2,1])].index\n",
    "\n",
    "# assign expression values from lush dataset object\n",
    "diff_traj.raw_counts = lush.raw_counts.loc[trajectory]\n",
    "diff_traj.normalized = lush.normalized.loc[trajectory]\n",
    "diff_traj.imputed = lush.imputed.loc[trajectory]\n",
    "\n",
    "display(Markdown('### Differentiating hair cell trajectory (imputed counts)'))\n",
    "display(diff_traj.imputed)"
   ]
  },
  {
   "cell_type": "code",
   "execution_count": null,
   "metadata": {},
   "outputs": [],
   "source": [
    "# assign pseudotime/clustering from lush et al figure 4I\n",
    "diff_traj.pseudotimes = lush4i.loc[trajectory,'pseudotime']\n",
    "diff_traj.clusters = lush4i.loc[trajectory,'cluster']\n",
    "\n",
    "display(Markdown('### Trajectory pseudotimes'))\n",
    "display(diff_traj.pseudotimes)"
   ]
  },
  {
   "cell_type": "markdown",
   "metadata": {},
   "source": [
    "---\n",
    "## Cluster gene trajectories into modules"
   ]
  },
  {
   "cell_type": "code",
   "execution_count": null,
   "metadata": {},
   "outputs": [],
   "source": [
    "# load lateral line genes (lush et al. & zfin)\n",
    "lat_line = pd.read_csv('refs/drerio_latline.csv')\n",
    "\n",
    "# bin data along pseudotime and expression axes\n",
    "# * this spaces the data more evenly (in pseudotime)\n",
    "# *** via simple histogram binning\n",
    "# * and allows us to calculate MI (by expression)\n",
    "# *** via Bayesian blocks adaptive binning \n",
    "\n",
    "diff_traj.bin_data(data = 'imputed', in_pt = True, pt_bin = 0.025,\n",
    "                   genes = lat_line['Ensembl_id'].unique())\n",
    "\n",
    "display(Markdown('### Bin imputed data in pseudotime and expression'))\n",
    "display(diff_traj.binned)"
   ]
  },
  {
   "cell_type": "code",
   "execution_count": null,
   "metadata": {},
   "outputs": [],
   "source": [
    "# find pairwise gene similarities (adjusted MI)\n",
    "diff_traj.find_gene_similarities(n_runs=5)\n",
    "\n",
    "display(Markdown('### Gene similarities (Adjusted Mutual Information)'))\n",
    "display(diff_traj.gene_similarities)"
   ]
  },
  {
   "cell_type": "markdown",
   "metadata": {},
   "source": [
    "### Find the optimal number of clusters using spectral clustering and silhouette score"
   ]
  },
  {
   "cell_type": "code",
   "execution_count": null,
   "metadata": {},
   "outputs": [],
   "source": [
    "diff_traj.cluster_genes(n_components=2, max_clusters=10, plot_silhouette=True)"
   ]
  },
  {
   "cell_type": "markdown",
   "metadata": {},
   "source": [
    "### Plot average gene module trajectories and errors"
   ]
  },
  {
   "cell_type": "code",
   "execution_count": null,
   "metadata": {},
   "outputs": [],
   "source": [
    "# plot smoothened average and errors for each module\n",
    "diff_traj.plot_modules(data='imputed', smoothing=0.1)\n",
    "\n",
    "# add labels for cell stage\n",
    "for ax in diff_traj.module_axes:\n",
    "    y, a, z, v = 0.5, 0.33, 0, 'center'\n",
    "    ax.text(diff_traj.pseudotimes.iloc[np.where(diff_traj.clusters==14)].min(),\n",
    "            y, 'central s.c.', va=v, ha='left', alpha=a, zorder=z)\n",
    "    ax.text(diff_traj.pseudotimes.iloc[np.where(diff_traj.clusters==4)].max(),\n",
    "            y, 'diff. s.c.', va=v, ha='left', alpha=a, zorder=z)\n",
    "    ax.text(diff_traj.pseudotimes.iloc[np.where(diff_traj.clusters==2)].mean(),\n",
    "            y, 'young h.c.', va=v, ha='center', alpha=a, zorder=z)\n",
    "    ax.text(diff_traj.pseudotimes.iloc[np.where(diff_traj.clusters==1)].mean(),\n",
    "            y, 'mature h.c.', va=v, ha='center', alpha=a, zorder=z)"
   ]
  },
  {
   "cell_type": "markdown",
   "metadata": {},
   "source": [
    "---\n",
    "## Cell signaling pathway enrichment in pseudotime"
   ]
  },
  {
   "cell_type": "code",
   "execution_count": null,
   "metadata": {},
   "outputs": [],
   "source": [
    "# order genes along pseudotime axis\n",
    "# * criteria: maximum expression pseudotime\n",
    "\n",
    "diff_traj.order_genes_pt(method='max')\n",
    "\n",
    "display(Markdown('### Maximum expression'))\n",
    "display(diff_traj.genes_1d)"
   ]
  },
  {
   "cell_type": "code",
   "execution_count": null,
   "metadata": {},
   "outputs": [],
   "source": [
    "# bin genes in pseudotime and perform GO analysis\n",
    "# * term enrichment for KEGG pathways via Enrichr\n",
    "\n",
    "display(Markdown('### GO term enrichment for developmental cell signaling pathways'))\n",
    "\n",
    "diff_traj.pathway_ea_in_pt(pathways = ['Cell cycle',\n",
    "                           'Notch signaling pathway',\n",
    "                           'Wnt signaling pathway',\n",
    "                           'Hedgehog signaling pathway',\n",
    "                           'TGF-beta signaling pathway'],\n",
    "                            pt_bin=0.09999, plot=True)"
   ]
  },
  {
   "cell_type": "markdown",
   "metadata": {},
   "source": [
    "---\n",
    "## Find differentially expressed genes between hair cells of opposite polarities"
   ]
  },
  {
   "cell_type": "code",
   "execution_count": null,
   "metadata": {},
   "outputs": [],
   "source": [
    "# # new dataset object for polarizing hair cells\n",
    "# pols = dataset(name='polarizing hair cells')\n",
    "\n",
    "# # cell barcodes for differentiating central support cells\n",
    "# cells = lush4i.loc[lush4i['cluster'].isin([14,4])].index\n",
    "\n",
    "# # assign data from previous trajectory dataset object\n",
    "# pols.raw_counts = diff_traj.raw_counts.loc[cells]\n",
    "# pols.normalized = diff_traj.normalized.loc[cells]\n",
    "# pols.imputed = diff_traj.imputed.loc[cells]\n",
    "# pols.pseudotimes = diff_traj.pseudotimes[cells]\n",
    "# pols.clusters = diff_traj.clusters[cells]\n",
    "\n",
    "# display(Markdown('### Hair cells undergoing the polarity determination (imputed counts)'))\n",
    "# display(pols.imputed)"
   ]
  },
  {
   "cell_type": "markdown",
   "metadata": {},
   "source": [
    "### Embed cells in low dimensions using known polarity genes"
   ]
  },
  {
   "cell_type": "code",
   "execution_count": null,
   "metadata": {},
   "outputs": [],
   "source": [
    "# # load polarity genes: deltas, notch genes, emx2\n",
    "# pol_genes = pd.read_csv('refs/polarity_genes.csv')\n",
    "# pol_genes.set_index('Ensembl_id', drop=False, inplace=True)\n",
    "# g = pol_genes['Ensembl_id'].isin(pols.imputed.columns).index\n",
    "# g_names = pol_genes.loc[g]\n",
    "# g_names.drop('Ensembl_id', axis=1, inplace=True)\n",
    "\n",
    "# # dimensionality reduction\n",
    "# pols.embed_pca(data='imputed', \n",
    "#                n_components=5, \n",
    "#                genes=g)\n",
    "\n",
    "# # t-stochastic neighbor embedding\n",
    "# pols.embed_tsne(data='pca')\n",
    "\n",
    "# display(Markdown('### Polarity genes'))\n",
    "# display(g_names)"
   ]
  },
  {
   "cell_type": "markdown",
   "metadata": {},
   "source": [
    "### Fit a principal curve to the differentiating hair cell trajectory"
   ]
  },
  {
   "cell_type": "code",
   "execution_count": null,
   "metadata": {},
   "outputs": [],
   "source": [
    "# # use the princurve package in R\n",
    "# princurve = importr('princurve', on_conflict='warn')\n",
    "# pc = princurve.principal_curve(pols.tsne_embedding.values)\n",
    "# cur = np.array(dollar(pc,'s'))\n",
    "# ordr = np.array(dollar(pc,'ord')) - 1\n",
    "\n",
    "# pol_point = -35 # polarization point\n",
    "# tsne1_pre = cur[ordr,0][:pol_point+1]\n",
    "# tsne2_pre = cur[ordr,1][:pol_point+1]\n",
    "# tsne1_pol = cur[ordr,0][pol_point:]\n",
    "# tsne2_pol = cur[ordr,1][pol_point:]\n",
    "\n",
    "# # new cluster labels for hair cells split by principal curve\n",
    "# new_labels = pols.tsne_embedding.iloc[ordr,1][pol_point:] > tsne2_pol\n",
    "# pols.clusters.loc[new_labels.index] = new_labels.astype(np.int)"
   ]
  },
  {
   "cell_type": "code",
   "execution_count": null,
   "metadata": {},
   "outputs": [],
   "source": [
    "# # plot the polarity tsne and principal curve\n",
    "# pols.plot_embedding(data='tsne', ar=0.6, \n",
    "#                     labels=['central s.c.', \n",
    "#                             'diff s.c.', \n",
    "#                             'polarity0',\n",
    "#                             'polarity1'])\n",
    "\n",
    "# pols.embedding_axes.plot(tsne1_pol, \n",
    "#                          tsne2_pol, \n",
    "#                          c='gray')\n",
    "\n",
    "# pols.embedding_axes.plot(tsne1_pre, \n",
    "#                          tsne2_pre,\n",
    "#                          linestyle='--', \n",
    "#                          c='gray')\n",
    "# display(Markdown('### A principal curve separates differentiating hair cells of opposite polarities'))\n",
    "# display(Markdown('* tSNE embedding based only on genes known to participate in the polarity determination'))\n",
    "# plt.show()"
   ]
  },
  {
   "cell_type": "markdown",
   "metadata": {},
   "source": [
    "### Test for differential gene expression between cells of opposite polarities"
   ]
  },
  {
   "cell_type": "code",
   "execution_count": null,
   "metadata": {},
   "outputs": [],
   "source": [
    "# # deseq2 diff expression analysis\n",
    "# pols.diff_exp2(clusters=[0,1])"
   ]
  },
  {
   "cell_type": "markdown",
   "metadata": {},
   "source": [
    "### Plot expression of known polarity genes"
   ]
  },
  {
   "cell_type": "code",
   "execution_count": null,
   "metadata": {},
   "outputs": [],
   "source": [
    "# pols.plot_violin(clusters=[0,1], cluster_labels=['polarity0', 'polarity1'],\n",
    "#                  gene=g_names.index[5], gene_label=g_names['gene_name'].values[5], ar=1)"
   ]
  },
  {
   "cell_type": "code",
   "execution_count": null,
   "metadata": {},
   "outputs": [],
   "source": [
    "# pols.plot_violin(clusters=[0,1], cluster_labels=['polarity0', 'polarity1'],\n",
    "#                  gene='ENSDARG00000054562', gene_label='her15.1', ar=0.2)"
   ]
  }
 ],
 "metadata": {
  "kernelspec": {
   "display_name": "Python 3",
   "language": "python",
   "name": "python3"
  },
  "language_info": {
   "codemirror_mode": {
    "name": "ipython",
    "version": 3
   },
   "file_extension": ".py",
   "mimetype": "text/x-python",
   "name": "python",
   "nbconvert_exporter": "python",
   "pygments_lexer": "ipython3",
   "version": "3.7.3"
  }
 },
 "nbformat": 4,
 "nbformat_minor": 2
}
