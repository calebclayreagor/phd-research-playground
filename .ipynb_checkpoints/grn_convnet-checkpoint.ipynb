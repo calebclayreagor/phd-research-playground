{
 "cells": [
  {
   "cell_type": "code",
   "execution_count": null,
   "metadata": {},
   "outputs": [],
   "source": [
    "#\n",
    "# TO-DO: (2/24/21)\n",
    "#\n",
    "# * NARROW GENES IN EXPERIMENTAL DATASETS\n",
    "#\n",
    "# * remove duplicate genes from ExpressionData files\n",
    "# * make sure refNetwork columns are in correct order\n",
    "#\n",
    "\n",
    "import torch\n",
    "import numpy             as np\n",
    "import pandas            as pd\n",
    "import pytorch_lightning as pl\n",
    "\n",
    "from torch.nn    import Conv2d\n",
    "from torch.nn    import Linear\n",
    "from torch.nn    import Sigmoid\n",
    "from torch.nn    import functional as F\n",
    "from torch.optim import Adam\n",
    "\n",
    "from pytorch_lightning.metrics.functional.classification import precision_recall_curve, auc\n",
    "\n",
    "from torch.utils.data import DataLoader\n",
    "from pytorch_dataset  import Dataset    # custom dataset class"
   ]
  },
  {
   "cell_type": "code",
   "execution_count": null,
   "metadata": {},
   "outputs": [],
   "source": [
    "train = Dataset(root_dir='cnn_datasets/experimental/', rel_path='*/*/ExpressionData.csv', overwrite=True, batchSize=512) "
   ]
  },
  {
   "cell_type": "code",
   "execution_count": null,
   "metadata": {},
   "outputs": [],
   "source": [
    "val = Dataset(root_dir='cnn_datasets/synthetic_1/', rel_path='*/*/ExpressionData.csv', overwrite=True, batchSize=32)"
   ]
  },
  {
   "cell_type": "code",
   "execution_count": null,
   "metadata": {},
   "outputs": [],
   "source": [
    "class ClassifyGRN(pl.LightningModule):\n",
    "    \n",
    "    def __init__(self):\n",
    "        super().__init__()\n",
    "        \n",
    "        self.convolutional_layer = Conv2d(1, 32, kernel_size=(2,5))\n",
    "        self.dense_linear_layer  = Linear(32, 32)\n",
    "        self.linear_output_layer = Linear(32, 1)\n",
    "        self.output_activation   = Sigmoid()\n",
    "        \n",
    "        \n",
    "    def forward(self, x):\n",
    "        # 2d convolutional layer\n",
    "        x = self.convolutional_layer(x)\n",
    "        x = torch.relu(x)\n",
    "        x = torch.squeeze(x)\n",
    "        w = x.size()[-1]\n",
    "        \n",
    "        # global average pooling layer\n",
    "        x = F.avg_pool1d(x, kernel_size=w)\n",
    "        x = torch.squeeze(x)\n",
    "\n",
    "        # dense linear layer\n",
    "        x = self.dense_linear_layer(x)\n",
    "        x = torch.relu(x)\n",
    "        \n",
    "        # linear output layer\n",
    "        x = self.linear_output_layer(x)\n",
    "        x = self.output_activation(x)\n",
    "        return x\n",
    "    \n",
    "    \n",
    "    def configure_optimizers(self):\n",
    "        optimizer = Adam(self.parameters(), lr=1e-2)\n",
    "        return optimizer\n",
    "    \n",
    "    \n",
    "    def binary_cross_entropy_loss(self, pred, labels):\n",
    "        return F.binary_cross_entropy(pred, labels)\n",
    "    \n",
    "    \n",
    "    def training_step(self, train_batch, batch_idx):\n",
    "        X, y = train_batch\n",
    "        pred = self.forward(X)\n",
    "        loss = self.binary_cross_entropy_loss(pred, y)\n",
    "        precision, recall, _ = precision_recall_curve(pred, y) \n",
    "        self.log('train_auprc', auc(recall, precision))\n",
    "        self.log('train_loss', loss)\n",
    "        return loss\n",
    "    \n",
    "#     def validation_step(self, val_batch, batch_idx):\n",
    "#         X, y = val_batch\n",
    "#         pred = self.forward(X)\n",
    "#         loss = self.binary_cross_entropy_loss(pred, y)\n",
    "#         precision, recall, _ = precision_recall_curve(pred, y) \n",
    "#         self.log('val_auprc', auc(recall, precision))\n",
    "#         self.log('val_loss', loss)     "
   ]
  },
  {
   "cell_type": "code",
   "execution_count": null,
   "metadata": {},
   "outputs": [],
   "source": [
    "%load_ext tensorboard\n",
    "%tensorboard --logdir lightning_logs/ --port=6008"
   ]
  },
  {
   "cell_type": "code",
   "execution_count": null,
   "metadata": {},
   "outputs": [],
   "source": [
    "trainer = pl.Trainer()\n",
    "model = ClassifyGRN()\n",
    "\n",
    "train_loader = DataLoader(train, batch_size=None, shuffle=True)\n",
    "# val_loader = DataLoader(val, batch_size=None, shuffle=True)\n",
    "\n",
    "# trainer.fit(model, train_loader, val_loader)\n",
    "trainer.fit(model, train_loader)"
   ]
  },
  {
   "cell_type": "code",
   "execution_count": null,
   "metadata": {},
   "outputs": [],
   "source": [
    "# model.add(Conv2D(32, (2,5),\n",
    "          kernel_initializer='he_uniform', \n",
    "#           activation='relu')) \n",
    "\n",
    "# model.add(GlobalAveragePooling2D())\n",
    "\n",
    "# model.add(Dense(32, activation='relu'))\n",
    "\n",
    "# model.add(Dense(1, activation='sigmoid')) \n",
    "\n",
    "# opt = SGD(lr=0.01, momentum=0.9)\n",
    "\n",
    "# model.compile(optimizer=opt, \n",
    "#               loss='binary_crossentropy', \n",
    "              metrics=[AUC(curve='PR')])"
   ]
  },
  {
   "cell_type": "code",
   "execution_count": null,
   "metadata": {},
   "outputs": [],
   "source": [
    "# model.fit(train, validation_data=val, epochs=10)"
   ]
  },
  {
   "cell_type": "code",
   "execution_count": null,
   "metadata": {},
   "outputs": [],
   "source": []
  }
 ],
 "metadata": {
  "kernelspec": {
   "display_name": "Python [conda env:deep-learning]",
   "language": "python",
   "name": "conda-env-deep-learning-py"
  },
  "language_info": {
   "codemirror_mode": {
    "name": "ipython",
    "version": 3
   },
   "file_extension": ".py",
   "mimetype": "text/x-python",
   "name": "python",
   "nbconvert_exporter": "python",
   "pygments_lexer": "ipython3",
   "version": "3.6.12"
  }
 },
 "nbformat": 4,
 "nbformat_minor": 4
}
