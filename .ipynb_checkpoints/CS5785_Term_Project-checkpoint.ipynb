{
 "cells": [
  {
   "cell_type": "markdown",
   "metadata": {},
   "source": [
    "# GRN inference from synthetic single cell RNA-seq data\n",
    "\n",
    "**Caleb Reagor, CS5785 Term Project**"
   ]
  },
  {
   "cell_type": "code",
   "execution_count": null,
   "metadata": {},
   "outputs": [],
   "source": [
    "# script dependencies\n",
    "import numpy as np\n",
    "import pandas as pd\n",
    "import scipy as sp\n",
    "import seaborn as sns\n",
    "import matplotlib as mpl\n",
    "%matplotlib inline\n",
    "import matplotlib.pyplot as plt\n",
    "mpl.rcParams['figure.dpi']= 1000\n",
    "from IPython.display import Markdown\n",
    "from synth_dataset import synthdata"
   ]
  },
  {
   "cell_type": "code",
   "execution_count": null,
   "metadata": {},
   "outputs": [],
   "source": [
    "d = '/Users/calebreagor/Documents/hudspeth-lab/inputs'\n",
    "d2 = '/Users/calebreagor/Documents/BoolODE-master'\n",
    "d3 = '/Users/calebreagor/Documents/Beeline-master'\n",
    "s = synthdata('linear_1', directory=d, boolODE_directory=d2, beeline_directory=d3)\n",
    "\n",
    "\"\"\"\n",
    "generate a gene regulatory network that mimics HC development\n",
    "\"\"\"\n",
    "\n",
    "s.generate_model(n_tfs=15, n_targets=50, selfs=0.8, frac=0.5, mindist=0.3, dpi=1000, load_prev=True)"
   ]
  },
  {
   "cell_type": "code",
   "execution_count": null,
   "metadata": {},
   "outputs": [],
   "source": [
    "\"\"\"\n",
    "generate synthetic single cell dataset(s) from the grn (BoolODE)\n",
    "\"\"\"\n",
    "\n",
    "s.simulate_model(sim_time=25, n_cells=300, drop_cutoff=0.7, drop_prob=0.7, n_datasets=100, load_prev=True)"
   ]
  },
  {
   "cell_type": "code",
   "execution_count": null,
   "metadata": {},
   "outputs": [],
   "source": [
    "s.plot_expression(data='expression', dpi=1000, datasets=np.arange(10))"
   ]
  },
  {
   "cell_type": "code",
   "execution_count": null,
   "metadata": {},
   "outputs": [],
   "source": [
    "\"\"\"\n",
    "generate binding sites matrices for each dataset given the grn\n",
    "\"\"\"\n",
    "\n",
    "s.generate_tfbs(bindsite_prob=0.1, \n",
    "                exclude_selfs=True, \n",
    "                pmf_true_bindsites=[0.2,0.6,0.2], \n",
    "                pmf_others=[0.85,0.14,0.01], \n",
    "                load_prev=True, dpi=1000,\n",
    "                datasets=np.arange(10))"
   ]
  },
  {
   "cell_type": "code",
   "execution_count": null,
   "metadata": {},
   "outputs": [],
   "source": [
    "s.infer_network(mode='beeline', pars='default', load_prev=True)"
   ]
  },
  {
   "cell_type": "code",
   "execution_count": null,
   "metadata": {},
   "outputs": [],
   "source": [
    "s.infer_network(mode='lasso', pars='default', load_prev=False)"
   ]
  },
  {
   "cell_type": "code",
   "execution_count": null,
   "metadata": {},
   "outputs": [],
   "source": [
    "auprc = np.load('outputs/linear_1/grid.npy')\n",
    "lambdas = np.load('outputs/linear_1/lambda.npy')[:,0]\n",
    "sigmas = np.load('outputs/linear_1/sigma.npy')[0,:]\n",
    "\n",
    "sns.heatmap(auprc.mean(axis=0), \n",
    "            linewidths=0.5, \n",
    "            xticklabels=sigmas, \n",
    "            yticklabels=lambdas, \n",
    "            square=True)\n",
    "plt.show()"
   ]
  },
  {
   "cell_type": "code",
   "execution_count": null,
   "metadata": {},
   "outputs": [],
   "source": [
    "results = s.bee_auc.append(s.lasso_auc.loc['LASSO'])\n",
    "results.loc['LASSO',s.lasso_auc.loc['split']=='dev'] = None\n",
    "results.index.values[-1] = 'LASSO-train'\n",
    "\n",
    "results = results.append(s.lasso_auc.loc['LASSO'])\n",
    "results.loc['LASSO',s.lasso_auc.loc['split']=='train'] = None\n",
    "results.index.values[-1] = 'LASSO-dev'\n",
    "\n",
    "sns.violinplot(data=results.T.values)\n",
    "plt.show()"
   ]
  },
  {
   "cell_type": "code",
   "execution_count": null,
   "metadata": {},
   "outputs": [],
   "source": []
  },
  {
   "cell_type": "code",
   "execution_count": null,
   "metadata": {},
   "outputs": [],
   "source": [
    "train_split = 0.7\n",
    "\n",
    "# pairwise gene indices for i≠j\n",
    "ii,jj = np.indices(s.tfbs[0].shape)\n",
    "ii = ii[~np.eye(ii.shape[0],dtype=bool)]\n",
    "jj = jj[~np.eye(jj.shape[0],dtype=bool)]\n",
    "pairs = list(zip(ii,jj))\n",
    "\n",
    "n_train_datasets = int(train_split * len(s.expression))\n",
    "n_train_samples = int(n_train_datasets * len(pairs))\n",
    "\n",
    "n_cells = s.expression[0].shape[0]\n",
    "\n",
    "train_X = np.empty((n_train_samples, 2, n_cells, 1), dtype=np.float64)\n",
    "train_y = np.empty((n_train_samples, 1),             dtype=np.int64)\n",
    "\n",
    "\n",
    "for m in range(n_train_datasets):\n",
    "    for n in range(len(pairs)):\n",
    "        \n",
    "        idx = (m * len(pairs)) + n\n",
    "    \n",
    "        g = s.tfbs[m].columns[list(pairs[n])]\n",
    "        \n",
    "        data_arr = s.expression[m][g].values\n",
    "#         data_arr /= np.sum(data_arr ** 2, axis=0)\n",
    "        \n",
    "        train_X[idx,...] = data_arr.T.reshape(2,n_cells,1)\n",
    "        train_y[idx,...] = (s.grn_full.loc[g[0],g[1]]!=0)"
   ]
  },
  {
   "cell_type": "code",
   "execution_count": null,
   "metadata": {},
   "outputs": [],
   "source": [
    "from tensorflow import keras\n",
    "from keras.models import Sequential\n",
    "from keras.layers import Conv2D, Dense, Flatten, GlobalAveragePooling2D\n",
    "from keras.optimizers import SGD\n",
    "from keras.metrics import AUC\n",
    "\n",
    "keras.backend.clear_session()\n",
    "\n",
    "model = Sequential()\n",
    "\n",
    "model.add(Conv2D(20, (2,5),\n",
    "          kernel_initializer='he_uniform', \n",
    "          activation='relu',\n",
    "          input_shape=(2,300,1))) \n",
    "\n",
    "model.add(GlobalAveragePooling2D())\n",
    "\n",
    "# model.add(Flatten())\n",
    "\n",
    "model.add(Dense(20, activation='relu'))\n",
    "\n",
    "model.add(Dense(1, activation='sigmoid')) \n",
    "\n",
    "opt = SGD(lr=0.01, momentum=0.9) \n",
    "\n",
    "model.compile(optimizer=opt, \n",
    "              loss='binary_crossentropy', \n",
    "              metrics=[AUC(curve='PR')])\n"
   ]
  },
  {
   "cell_type": "code",
   "execution_count": null,
   "metadata": {},
   "outputs": [],
   "source": [
    "model.fit(train_X, train_y, batch_size=32, epochs=10, validation_split=0.1, shuffle=True)"
   ]
  },
  {
   "cell_type": "code",
   "execution_count": null,
   "metadata": {},
   "outputs": [],
   "source": [
    "# import networkx as nx\n",
    "# from IPython.display import Image\n",
    "\n",
    "# G = nx.convert_matrix.from_pandas_adjacency(adj, create_using=nx.DiGraph)\n",
    "\n",
    "# for i,j in G.edges:\n",
    "#     if adj.loc[i,j] < 0:\n",
    "#         G[i][j]['arrowhead'] = 'box'\n",
    "        \n",
    "# G.graph['node'] = {'shape' : 'circle',\n",
    "#                    'fixedsize' : 'True',\n",
    "#                    'fontsize' : '20'}\n",
    "\n",
    "# G.graph['edge'] = {'arrowsize' : '1.0'}\n",
    "\n",
    "# outdeg = G.out_degree()\n",
    "# G.remove_nodes_from([n[0] for n in outdeg if n[1]<4])\n",
    "\n",
    "# # outdeg = G.out_degree()\n",
    "# # G.remove_nodes_from([n[0] for n in outdeg if n[1]==0])\n",
    "\n",
    "# A = nx.nx_agraph.to_agraph(G)\n",
    "# A.layout('circo')\n",
    "# Image(A.draw(format='png'))"
   ]
  },
  {
   "cell_type": "code",
   "execution_count": null,
   "metadata": {},
   "outputs": [],
   "source": []
  },
  {
   "cell_type": "markdown",
   "metadata": {},
   "source": [
    "**Code to generate figure from original report:**"
   ]
  },
  {
   "cell_type": "code",
   "execution_count": null,
   "metadata": {},
   "outputs": [],
   "source": [
    "# # CODE TO PLOT BEELINE EVAL RESULTS\n",
    "# from matplotlib.lines import Line2D\n",
    "\n",
    "# density = s.grn.values.nonzero()[0].size/(s.grn.shape[1]*(s.grn.shape[1] - 1)/2)\n",
    "\n",
    "# auroc = pd.read_csv('outputs/linear_1/linear_1-AUROC.csv', index_col=0)\n",
    "# auprc = pd.read_csv('outputs/linear_1/linear_1-AUPRC.csv', index_col=0)\n",
    "\n",
    "# matplotlib.rcParams['figure.dpi']= 150\n",
    "# fig, ax = plt.subplots(2,1,figsize=(2,4), sharex=True)\n",
    "\n",
    "# w, c, sz = 0.5, ['k','tab:red'], 4\n",
    "\n",
    "# auroc.T.boxplot(ax=ax[0], grid=False, widths=w, boxprops=dict(color=c[0]),\n",
    "#                 whiskerprops=dict(color=c[0]), medianprops=dict(color=c[0]),\n",
    "#                 capprops=dict(color=c[0]), flierprops=dict(markersize=sz, markeredgecolor=c[0], markerfacecolor=c[0]))\n",
    "# auprc.T.boxplot(ax=ax[1], grid=False, widths=w, boxprops=dict(color=c[1]),\n",
    "#                 whiskerprops=dict(color=c[1]), medianprops=dict(color=c[1]),\n",
    "#                 capprops=dict(color=c[1]), flierprops=dict(markersize=sz, markeredgecolor=c[1], markerfacecolor=c[1]))\n",
    "\n",
    "# plt.xticks(rotation=90)\n",
    "# ax[0].yaxis.grid(True)\n",
    "# ax[1].yaxis.grid(True)\n",
    "\n",
    "# fig.text(-0.15, 0.5, 'AUC', va='center', rotation='vertical')\n",
    "\n",
    "# ax[0].set_ylim(top=1.0)\n",
    "# ax[1].set_ylim(bottom=0.0)\n",
    "\n",
    "# ax[0].spines['bottom'].set_visible(False)\n",
    "# ax[1].spines['top'].set_visible(False)\n",
    "# ax[0].tick_params(labeltop=False)\n",
    "# ax[0].tick_params(axis='x', bottom=False)\n",
    "# ax[0].tick_params(axis='y', right=True)\n",
    "# ax[1].tick_params(axis='y', right=True)\n",
    "\n",
    "# d = .01  # how big to make the diagonal lines in axes coordinates\n",
    "# # arguments to pass to plot, just so we don't keep repeating them\n",
    "# kwargs = dict(transform=ax[0].transAxes, color='k', clip_on=False)\n",
    "# ax[0].plot((-d, +d), (-d, +d), **kwargs)        # top-left diagonal\n",
    "# ax[0].plot((1 - d, 1 + d), (-d, +d), **kwargs)  # top-right diagonal\n",
    "\n",
    "# kwargs.update(transform=ax[1].transAxes)  # switch to the bottom axes\n",
    "# ax[1].plot((-d, +d), (1 - d, 1 + d), **kwargs)  # bottom-left diagonal\n",
    "# ax[1].plot((1 - d, 1 + d), (1 - d, 1 + d), **kwargs)  # bottom-right diagonal\n",
    "\n",
    "# ax[0].axhline(0.5, linestyle='--', color='gray')\n",
    "# ax[1].axhline(density, linestyle='--', color='rosybrown')\n",
    "\n",
    "# lgnd = [Line2D([0], [0], color=c[0], lw=4),\n",
    "#         Line2D([0], [0], color=c[1], lw=4)]\n",
    "\n",
    "# ax[0].legend(lgnd, ['ROC', 'PR'], frameon=False)\n",
    "\n",
    "# plt.show()"
   ]
  },
  {
   "cell_type": "code",
   "execution_count": null,
   "metadata": {},
   "outputs": [],
   "source": []
  }
 ],
 "metadata": {
  "kernelspec": {
   "display_name": "Python [conda env:hudspeth-lab]",
   "language": "python",
   "name": "conda-env-hudspeth-lab-py"
  },
  "language_info": {
   "codemirror_mode": {
    "name": "ipython",
    "version": 3
   },
   "file_extension": ".py",
   "mimetype": "text/x-python",
   "name": "python",
   "nbconvert_exporter": "python",
   "pygments_lexer": "ipython3",
   "version": "3.7.7"
  }
 },
 "nbformat": 4,
 "nbformat_minor": 4
}
